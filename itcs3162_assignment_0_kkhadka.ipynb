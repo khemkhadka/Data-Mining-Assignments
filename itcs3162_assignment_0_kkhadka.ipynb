{
 "cells": [
  {
   "cell_type": "markdown",
   "metadata": {
    "collapsed": true
   },
   "source": [
    "# ITCS 3162 - Assignment 0\n",
    "\n",
    "Introduction to Python Programming\n",
    "\n",
    "### Name: Khem Khadka\n",
    "\n",
    "### Submission instructions\n",
    "\n",
    "- Enter your name in the space above.  \n",
    "- Save your completed json as *itcs3162_assignment_0_**\\<uncc username>**.ipynb*.\n",
    "- Upload **both** the **ipynb** file and the **html** file version of your completed notebook to Canvas.  \n",
    "\n",
    "You can download the notebook in html format by going to *File --> Download as --> HTML*"
   ]
  },
  {
   "cell_type": "markdown",
   "metadata": {},
   "source": [
    "## Problem 1:\n",
    "\n",
    "Prompt the user to input an integer and store it in a variable. Ensure that the user input is a valid integer. If it is not, use a loop to re-prompt the user for input until a valid number is entered."
   ]
  },
  {
   "cell_type": "code",
   "execution_count": null,
   "metadata": {},
   "outputs": [],
   "source": [
    "while True:\n",
    "    try:\n",
    "        my_int = int(input(\"Enter an integer \"))\n",
    "        break\n",
    "    except:\n",
    "        print(\"Invalid input. Follow the direction carefully!\")"
   ]
  },
  {
   "cell_type": "markdown",
   "metadata": {},
   "source": [
    "\n",
    "- Print the type of stored user input\n",
    "- Print the square of the input number\n",
    "- Print the remainder when the input number is divided by 7"
   ]
  },
  {
   "cell_type": "code",
   "execution_count": null,
   "metadata": {},
   "outputs": [],
   "source": [
    "print(type(my_int))"
   ]
  },
  {
   "cell_type": "code",
   "execution_count": null,
   "metadata": {},
   "outputs": [],
   "source": [
    "print(my_int**2)"
   ]
  },
  {
   "cell_type": "code",
   "execution_count": null,
   "metadata": {},
   "outputs": [],
   "source": [
    "print(my_int%7)"
   ]
  },
  {
   "cell_type": "markdown",
   "metadata": {},
   "source": [
    "## Problem 2:\n",
    "\n",
    "Define a function that will return a list of the first *n* numbers in the Fibonacci sequence."
   ]
  },
  {
   "cell_type": "code",
   "execution_count": 1,
   "metadata": {},
   "outputs": [
    {
     "name": "stdout",
     "output_type": "stream",
     "text": [
      "[0, 1, 1, 2, 3, 5, 8, 13, 21, 34]\n"
     ]
    }
   ],
   "source": [
    "#Initializing Fibonacci sequence with its first two terms. \n",
    "fib_list = []\n",
    "def fib_sequence(n):\n",
    "    if n <=0:\n",
    "        return 'Invalid value of n'\n",
    "    elif n == 1:\n",
    "        fib_list.append(0)\n",
    "        return fib_list\n",
    "    elif n == 2:\n",
    "        fib_list.append(0,1)\n",
    "        return fib_list\n",
    "    else:\n",
    "        \n",
    "        #initialize first and second term in the sequence\n",
    "        first_term = 0\n",
    "        second_term = 1\n",
    "        fib_list.extend([0,1])\n",
    "\n",
    "        for x in range(2,n):\n",
    "            #range starts from 2 as first two are already in the list.\n",
    "            #initialize a third term to store the value of first_term + second_term\n",
    "            next_term = first_term + second_term\n",
    "            first_term = second_term # swap the value of first_term with second\n",
    "            second_term = next_term # set second to the next_term which is sum of previous two terms.\n",
    "            #Add next term to the list\n",
    "            fib_list.append(next_term)\n",
    "    return fib_list\n",
    "\n",
    "# Call the Function        \n",
    "fib_sequence(10)\n",
    "\n",
    "print(fib_list)"
   ]
  },
  {
   "cell_type": "markdown",
   "metadata": {},
   "source": [
    "- Print the first **10** numbers in the Fibonacci sequence as a string of comma-separated values\n",
    "- Print the total sum of the first 10 Fibonnaci numbers\n",
    "- Print your list of Fibonnaci numbers in reverse sorted order (greatest --> smallest)"
   ]
  },
  {
   "cell_type": "code",
   "execution_count": 5,
   "metadata": {},
   "outputs": [
    {
     "data": {
      "text/plain": [
       "['0', '1', '1', '2', '3', '5', '8', '13', '21', '34']"
      ]
     },
     "execution_count": 5,
     "metadata": {},
     "output_type": "execute_result"
    }
   ],
   "source": [
    "#Frist 10 numbers in Fibonacci sequence as string of commas separated value\n",
    "string_list = [str(x) for x in fib_list]\n",
    "string_list"
   ]
  },
  {
   "cell_type": "code",
   "execution_count": 83,
   "metadata": {},
   "outputs": [
    {
     "data": {
      "text/plain": [
       "88"
      ]
     },
     "execution_count": 83,
     "metadata": {},
     "output_type": "execute_result"
    }
   ],
   "source": [
    "#SUM of firts 10 numbers in the list\n",
    "sum(fib_list)"
   ]
  },
  {
   "cell_type": "code",
   "execution_count": 82,
   "metadata": {},
   "outputs": [
    {
     "name": "stdout",
     "output_type": "stream",
     "text": [
      "[34, 21, 13, 8, 5, 3, 2, 1, 1, 0]\n"
     ]
    }
   ],
   "source": [
    "#Fibonacci sequence in reverse order:\n",
    "\n",
    "\n",
    "print(fib_list[::-1])"
   ]
  },
  {
   "cell_type": "markdown",
   "metadata": {},
   "source": [
    "## Problem 3:\n",
    "\n",
    "This problem will use the provided *states.json* file that you can download from Canvas. Ensure that the data file is in the same directory as your jupyter notebook.\n",
    "\n",
    "In the Markdown cell below, describe the structure of the json file in your own words. Think in terms of the data structures and data types used by Python."
   ]
  },
  {
   "cell_type": "markdown",
   "metadata": {},
   "source": []
  },
  {
   "cell_type": "markdown",
   "metadata": {},
   "source": [
    "Read in the *states.json* file using Python's built-in json library"
   ]
  },
  {
   "cell_type": "code",
   "execution_count": 9,
   "metadata": {},
   "outputs": [
    {
     "data": {
      "text/plain": [
       "50"
      ]
     },
     "execution_count": 9,
     "metadata": {},
     "output_type": "execute_result"
    }
   ],
   "source": [
    "import pandas as pd\n",
    "import json\n",
    "            \n",
    "with open('states.json') as file:\n",
    "    states_data = json.load(file)\n",
    "    #states_df=pd.DataFrame(data)\n",
    "states_data\n",
    "#states = states_df.columns\n",
    "#regions = list(states_df.index.name['region'])\n",
    "\n",
    "\n",
    "#- Print the length of your dictionary\n",
    "\n",
    "len(states_data)\n"
   ]
  },
  {
   "cell_type": "markdown",
   "metadata": {},
   "source": [
    "\n",
    "- Extract the list of all state names, and print the state names in alphabetical order"
   ]
  },
  {
   "cell_type": "code",
   "execution_count": 10,
   "metadata": {},
   "outputs": [
    {
     "name": "stdout",
     "output_type": "stream",
     "text": [
      "US states sorted alphabatically:\n",
      "['alabama', 'alaska', 'arizona', 'arkansas', 'california', 'colorado', 'connecticut', 'delaware', 'florida', 'georgia', 'hawaii', 'idaho', 'illinois', 'indiana', 'iowa', 'kansas', 'kentucky', 'louisiana', 'maine', 'maryland', 'massachusetts', 'michigan', 'minnesota', 'mississippi', 'missouri', 'montana', 'nebraska', 'nevada', 'new hampshire', 'new jersey', 'new mexico', 'new york', 'north carolina', 'north dakota', 'ohio', 'oklahoma', 'oregon', 'pennsylvania', 'rhode island', 'south carolina', 'south dakota', 'tennessee', 'texas', 'utah', 'vermont', 'virginia', 'washington', 'west virginia', 'wisconsin', 'wyoming']\n"
     ]
    }
   ],
   "source": [
    "states_alphabetically = [states for states, info in states_data.items() ]\n",
    "states_alphabetically.sort()\n",
    "print(\"US states sorted alphabatically:\")\n",
    "print(states_alphabetically)"
   ]
  },
  {
   "cell_type": "markdown",
   "metadata": {},
   "source": [
    "Split the state names into separate lists by which U.S. Census region the state belongs to. Print the resulting regional state lists  \n",
    "**Note**: This should require only a single for loop to create all of the lists"
   ]
  },
  {
   "cell_type": "code",
   "execution_count": 11,
   "metadata": {},
   "outputs": [
    {
     "name": "stdout",
     "output_type": "stream",
     "text": [
      "{'pacific', 'south', 'northeast', 'west', 'midwest'}\n",
      "[['alaska', 'hawaii'], ['oklahoma', 'texas', 'arkansas', 'louisiana', 'kentucky', 'tennessee', 'mississippi', 'alabama', 'florida', 'georgia', 'south carolina', 'north carolina', 'virginia', 'west virginia', 'maryland', 'delaware'], ['pennsylvania', 'new jersey', 'new york', 'connecticut', 'massachusetts', 'vermont', 'new hampshire', 'rhode island', 'maine'], ['washington', 'oregon', 'california', 'idaho', 'nevada', 'utah', 'arizona', 'montana', 'wyoming', 'colorado', 'new mexico'], ['north dakota', 'south dakota', 'nebraska', 'kansas', 'minnesota', 'iowa', 'missouri', 'wisconsin', 'illinois', 'michigan', 'indiana', 'ohio']]\n"
     ]
    }
   ],
   "source": [
    "state_region = [[state, info['region']] for state, info in states_data.items()]\n",
    "\n",
    "region = set([list[1] for list in state_region]) # stored as set so as not to repeat the region's name in the list\n",
    "print(region)\n",
    "grouped_by_region = [[list[0] for list in state_region if list[1] == values] for values in region]\n",
    "print(grouped_by_region)"
   ]
  },
  {
   "cell_type": "markdown",
   "metadata": {},
   "source": [
    "\n",
    "Print the state names in order by the year they joined the United States."
   ]
  },
  {
   "cell_type": "code",
   "execution_count": 14,
   "metadata": {},
   "outputs": [
    {
     "name": "stdout",
     "output_type": "stream",
     "text": [
      "['delaware', 'pennsylvania', 'new jersey', 'georgia', 'south carolina', 'virginia', 'maryland', 'new york', 'connecticut', 'massachusetts', 'new hampshire', 'north carolina', 'rhode island', 'vermont', 'kentucky', 'tennessee', 'ohio', 'louisiana', 'indiana', 'mississippi', 'illinois', 'alabama', 'maine', 'missouri', 'arkansas', 'michigan', 'texas', 'florida', 'iowa', 'wisconsin', 'california', 'minnesota', 'oregon', 'kansas', 'west virginia', 'nevada', 'nebraska', 'colorado', 'washington', 'montana', 'north dakota', 'south dakota', 'idaho', 'wyoming', 'utah', 'oklahoma', 'arizona', 'new mexico', 'alaska', 'hawaii']\n"
     ]
    }
   ],
   "source": [
    "state_year = [[state, info['year_joined']] for state, info in states_data.items()]\n",
    "#sort by year_joined\n",
    "state_year.sort(key=lambda x: x[1], reverse = False) # list begins with the state which joined the union first.\n",
    "#print(state_year)\n",
    "print([state for state, year in state_year])"
   ]
  },
  {
   "cell_type": "markdown",
   "metadata": {},
   "source": [
    "Delete your least favorite state from the dictionary. This operation should be done in-place  \n",
    "Print the length of the updated dictionary"
   ]
  },
  {
   "cell_type": "code",
   "execution_count": 119,
   "metadata": {},
   "outputs": [
    {
     "ename": "SyntaxError",
     "evalue": "invalid syntax (<ipython-input-119-edcf6b008d4d>, line 1)",
     "output_type": "error",
     "traceback": [
      "\u001b[1;36m  File \u001b[1;32m\"<ipython-input-119-edcf6b008d4d>\"\u001b[1;36m, line \u001b[1;32m1\u001b[0m\n\u001b[1;33m    len(del states_data['maine'])\u001b[0m\n\u001b[1;37m        ^\u001b[0m\n\u001b[1;31mSyntaxError\u001b[0m\u001b[1;31m:\u001b[0m invalid syntax\n"
     ]
    }
   ],
   "source": [
    "del states_data['maine']\n",
    "len(states_data)"
   ]
  },
  {
   "cell_type": "code",
   "execution_count": null,
   "metadata": {},
   "outputs": [],
   "source": []
  },
  {
   "cell_type": "markdown",
   "metadata": {},
   "source": [
    "Add your favorite country to the dictionary. This operation should be done in-place.  \n",
    "The key should be the country name. The value should be a dictionary containing the country's language and the year it joined the U.N."
   ]
  },
  {
   "cell_type": "code",
   "execution_count": 121,
   "metadata": {},
   "outputs": [
    {
     "data": {
      "text/plain": [
       "{'alaska': {'year_joined': 1959, 'region': 'pacific'},\n",
       " 'hawaii': {'year_joined': 1959, 'region': 'pacific'},\n",
       " 'washington': {'year_joined': 1889, 'region': 'west'},\n",
       " 'oregon': {'year_joined': 1859, 'region': 'west'},\n",
       " 'california': {'year_joined': 1850, 'region': 'west'},\n",
       " 'idaho': {'year_joined': 1890, 'region': 'west'},\n",
       " 'nevada': {'year_joined': 1864, 'region': 'west'},\n",
       " 'utah': {'year_joined': 1896, 'region': 'west'},\n",
       " 'arizona': {'year_joined': 1912, 'region': 'west'},\n",
       " 'montana': {'year_joined': 1889, 'region': 'west'},\n",
       " 'wyoming': {'year_joined': 1890, 'region': 'west'},\n",
       " 'colorado': {'year_joined': 1876, 'region': 'west'},\n",
       " 'new mexico': {'year_joined': 1912, 'region': 'west'},\n",
       " 'north dakota': {'year_joined': 1889, 'region': 'midwest'},\n",
       " 'south dakota': {'year_joined': 1889, 'region': 'midwest'},\n",
       " 'nebraska': {'year_joined': 1867, 'region': 'midwest'},\n",
       " 'kansas': {'year_joined': 1861, 'region': 'midwest'},\n",
       " 'oklahoma': {'year_joined': 1907, 'region': 'south'},\n",
       " 'texas': {'year_joined': 1845, 'region': 'south'},\n",
       " 'minnesota': {'year_joined': 1858, 'region': 'midwest'},\n",
       " 'iowa': {'year_joined': 1846, 'region': 'midwest'},\n",
       " 'missouri': {'year_joined': 1821, 'region': 'midwest'},\n",
       " 'arkansas': {'year_joined': 1836, 'region': 'south'},\n",
       " 'louisiana': {'year_joined': 1812, 'region': 'south'},\n",
       " 'wisconsin': {'year_joined': 1848, 'region': 'midwest'},\n",
       " 'illinois': {'year_joined': 1818, 'region': 'midwest'},\n",
       " 'michigan': {'year_joined': 1837, 'region': 'midwest'},\n",
       " 'indiana': {'year_joined': 1816, 'region': 'midwest'},\n",
       " 'ohio': {'year_joined': 1803, 'region': 'midwest'},\n",
       " 'kentucky': {'year_joined': 1792, 'region': 'south'},\n",
       " 'tennessee': {'year_joined': 1796, 'region': 'south'},\n",
       " 'mississippi': {'year_joined': 1817, 'region': 'south'},\n",
       " 'alabama': {'year_joined': 1819, 'region': 'south'},\n",
       " 'florida': {'year_joined': 1845, 'region': 'south'},\n",
       " 'georgia': {'year_joined': 1788, 'region': 'south'},\n",
       " 'south carolina': {'year_joined': 1788, 'region': 'south'},\n",
       " 'north carolina': {'year_joined': 1789, 'region': 'south'},\n",
       " 'virginia': {'year_joined': 1788, 'region': 'south'},\n",
       " 'west virginia': {'year_joined': 1863, 'region': 'south'},\n",
       " 'maryland': {'year_joined': 1788, 'region': 'south'},\n",
       " 'delaware': {'year_joined': 1787, 'region': 'south'},\n",
       " 'pennsylvania': {'year_joined': 1787, 'region': 'northeast'},\n",
       " 'new jersey': {'year_joined': 1787, 'region': 'northeast'},\n",
       " 'new york': {'year_joined': 1788, 'region': 'northeast'},\n",
       " 'connecticut': {'year_joined': 1788, 'region': 'northeast'},\n",
       " 'massachusetts': {'year_joined': 1788, 'region': 'northeast'},\n",
       " 'vermont': {'year_joined': 1791, 'region': 'northeast'},\n",
       " 'new hampshire': {'year_joined': 1788, 'region': 'northeast'},\n",
       " 'rhode island': {'year_joined': 1790, 'region': 'northeast'},\n",
       " 'India': {'year_joined': 1945, 'Language': 'Hindi'}}"
      ]
     },
     "execution_count": 121,
     "metadata": {},
     "output_type": "execute_result"
    }
   ],
   "source": [
    "states_data['India'] = {'year_joined': 1945, 'Language': 'Hindi'}\n",
    "states_data"
   ]
  },
  {
   "cell_type": "markdown",
   "metadata": {},
   "source": [
    "- Print the length of the updated dictionary\n",
    "- Print out the country's entry from the dictionary"
   ]
  },
  {
   "cell_type": "code",
   "execution_count": 123,
   "metadata": {},
   "outputs": [
    {
     "name": "stdout",
     "output_type": "stream",
     "text": [
      "50\n",
      "dict_items([('year_joined', 1945), ('Language', 'Hindi')])\n"
     ]
    }
   ],
   "source": [
    "print(len(states_data))\n",
    "print(states_data['India'].items())"
   ]
  },
  {
   "cell_type": "markdown",
   "metadata": {},
   "source": [
    "## Problem 4\n",
    "\n",
    "List comprehension practice"
   ]
  },
  {
   "cell_type": "code",
   "execution_count": 22,
   "metadata": {},
   "outputs": [],
   "source": [
    "nums = list(range(100))  # Initial list of numbers from 0 - 99"
   ]
  },
  {
   "cell_type": "markdown",
   "metadata": {},
   "source": [
    "Use a list comprehension to create a list of all the numbers that are divisible by 11"
   ]
  },
  {
   "cell_type": "code",
   "execution_count": 23,
   "metadata": {},
   "outputs": [],
   "source": [
    "div_by11 = [x for x in nums if x%11 == 0]"
   ]
  },
  {
   "cell_type": "code",
   "execution_count": 24,
   "metadata": {},
   "outputs": [
    {
     "name": "stdout",
     "output_type": "stream",
     "text": [
      "[0, 11, 22, 33, 44, 55, 66, 77, 88, 99]\n"
     ]
    }
   ],
   "source": [
    "print(div_by11)"
   ]
  },
  {
   "cell_type": "markdown",
   "metadata": {},
   "source": [
    "Use a list comprehension to create a list with only the positive numbers. If a number is negative, store **None** in the new list instead"
   ]
  },
  {
   "cell_type": "code",
   "execution_count": 25,
   "metadata": {},
   "outputs": [],
   "source": [
    "nums = [34.6, -203.4, 44.9, 68.3, -12.2, 44.6, 12.7]"
   ]
  },
  {
   "cell_type": "code",
   "execution_count": 26,
   "metadata": {},
   "outputs": [],
   "source": [
    "positive_in_nums = [x for x in nums if x > 0]"
   ]
  },
  {
   "cell_type": "code",
   "execution_count": 27,
   "metadata": {},
   "outputs": [
    {
     "name": "stdout",
     "output_type": "stream",
     "text": [
      "[34.6, 44.9, 68.3, 44.6, 12.7]\n"
     ]
    }
   ],
   "source": [
    "print(positive_in_nums)"
   ]
  },
  {
   "cell_type": "markdown",
   "metadata": {},
   "source": [
    "Use a list comprehension to count the number of vowels in the sentence below"
   ]
  },
  {
   "cell_type": "code",
   "execution_count": 29,
   "metadata": {},
   "outputs": [],
   "source": [
    "sentence = 'The quick brown fox jumps over the lazy dog'"
   ]
  },
  {
   "cell_type": "code",
   "execution_count": 30,
   "metadata": {},
   "outputs": [
    {
     "data": {
      "text/plain": [
       "11"
      ]
     },
     "execution_count": 30,
     "metadata": {},
     "output_type": "execute_result"
    }
   ],
   "source": [
    "len([x for x in sentence if x == 'a' or x == 'e' or x == 'i' or x == 'o' or x == 'u'])"
   ]
  },
  {
   "cell_type": "markdown",
   "metadata": {},
   "source": [
    "Split the above sentence into a list of words"
   ]
  },
  {
   "cell_type": "code",
   "execution_count": 31,
   "metadata": {},
   "outputs": [
    {
     "data": {
      "text/plain": [
       "['The', 'quick', 'brown', 'fox', 'jumps', 'over', 'the', 'lazy', 'dog']"
      ]
     },
     "execution_count": 31,
     "metadata": {},
     "output_type": "execute_result"
    }
   ],
   "source": [
    "word_list = list(sentence.split(' '))\n",
    "word_list"
   ]
  },
  {
   "cell_type": "code",
   "execution_count": null,
   "metadata": {},
   "outputs": [],
   "source": []
  },
  {
   "cell_type": "markdown",
   "metadata": {},
   "source": [
    "Use a dictionary comprehension to count the length of each word in the sentence"
   ]
  },
  {
   "cell_type": "code",
   "execution_count": 32,
   "metadata": {},
   "outputs": [
    {
     "data": {
      "text/plain": [
       "[3, 5, 5, 3, 5, 4, 3, 4, 3]"
      ]
     },
     "execution_count": 32,
     "metadata": {},
     "output_type": "execute_result"
    }
   ],
   "source": [
    "word_length = [len(x) for x in word_list].\n",
    "word_length"
   ]
  },
  {
   "cell_type": "markdown",
   "metadata": {},
   "source": [
    "Print each of the words sorted by its length (shortest --> longest)"
   ]
  },
  {
   "cell_type": "code",
   "execution_count": 36,
   "metadata": {},
   "outputs": [
    {
     "name": "stdout",
     "output_type": "stream",
     "text": [
      "['The', 'fox', 'the', 'dog', 'over', 'lazy', 'quick', 'brown', 'jumps']\n"
     ]
    }
   ],
   "source": [
    "print(sorted(word_list, key=len))"
   ]
  },
  {
   "cell_type": "markdown",
   "metadata": {},
   "source": [
    "## Problem 5\n",
    "\n",
    "Below is an Python function and an example of the input and output of this function. In the Markdown cell below the example, describe in your own words what each step of the *process_tweets* function is doing. Be specific in your description"
   ]
  },
  {
   "cell_type": "code",
   "execution_count": 124,
   "metadata": {},
   "outputs": [],
   "source": [
    "def process_tweets(tweet_json, language='en'):\n",
    "    post_dict = {}\n",
    "    for tweet_id, tweet_data in tweet_json.items():\n",
    "        try:\n",
    "            if tweet_data['language'] == language:\n",
    "                text = tweet_data['body'].lower().strip()\n",
    "                \n",
    "                post_dict[tweet_id] = {\n",
    "                    'raw_text': tweet_data['body'],\n",
    "                    'text': text,\n",
    "                    'num_tokens': len(text.split())\n",
    "                }\n",
    "        except KeyError:\n",
    "            continue\n",
    "    \n",
    "    return post_dict"
   ]
  },
  {
   "cell_type": "code",
   "execution_count": 125,
   "metadata": {},
   "outputs": [],
   "source": [
    "tweet_json = {\n",
    "    123456: {'language': 'en', 'user': 'user123', 'body': 'Hello friends'},\n",
    "    789012: {'user': 'asdf', 'language': 'es', 'body': 'Hola Amigos'},\n",
    "    543876: {'user': '__abcdef__', 'language': 'en', 'body': 'ToTaLLy nOt a BoT aCCouNt.'},\n",
    "    623432: {'user': None}\n",
    "}"
   ]
  },
  {
   "cell_type": "code",
   "execution_count": 126,
   "metadata": {
    "scrolled": true
   },
   "outputs": [
    {
     "data": {
      "text/plain": [
       "{123456: {'raw_text': 'Hello friends',\n",
       "  'text': 'hello friends',\n",
       "  'num_tokens': 2},\n",
       " 543876: {'raw_text': 'ToTaLLy nOt a BoT aCCouNt.',\n",
       "  'text': 'totally not a bot account.',\n",
       "  'num_tokens': 5}}"
      ]
     },
     "execution_count": 126,
     "metadata": {},
     "output_type": "execute_result"
    }
   ],
   "source": [
    "en_posts = process_tweets(tweet_json)\n",
    "en_posts"
   ]
  },
  {
   "cell_type": "code",
   "execution_count": 127,
   "metadata": {},
   "outputs": [
    {
     "data": {
      "text/plain": [
       "{789012: {'raw_text': 'Hola Amigos', 'text': 'hola amigos', 'num_tokens': 2}}"
      ]
     },
     "execution_count": 127,
     "metadata": {},
     "output_type": "execute_result"
    }
   ],
   "source": [
    "es_posts = process_tweets(tweet_json, language='es')\n",
    "es_posts"
   ]
  },
  {
   "cell_type": "markdown",
   "metadata": {},
   "source": []
  },
  {
   "cell_type": "raw",
   "metadata": {},
   "source": []
  },
  {
   "cell_type": "markdown",
   "metadata": {},
   "source": [
    "'process_tweets' function takes two arguments. The first argument is the dictionary of tweets for different users, and the second argument is the language of the tweet. It first initializes an empty dictionary. It loops through the items in the tweet_json dictionary file and if the language of the tweet is 'eng' it converst the 'body' of the tweet to lower case and removes any special characters at the beginning or the end of the 'body' of the tweet and stores the string in a variable named 'text'. Then, it prints the number of tokens in the 'body' of the tweet. If the 'language' is 'es', it converts the body of text into lower cases and prints with number of tokens in the 'body' of the tweet. "
   ]
  }
 ],
 "metadata": {
  "kernelspec": {
   "display_name": "Python 3",
   "language": "python",
   "name": "python3"
  },
  "language_info": {
   "codemirror_mode": {
    "name": "ipython",
    "version": 3
   },
   "file_extension": ".py",
   "mimetype": "text/x-python",
   "name": "python",
   "nbconvert_exporter": "python",
   "pygments_lexer": "ipython3",
   "version": "3.8.8"
  }
 },
 "nbformat": 4,
 "nbformat_minor": 1
}
